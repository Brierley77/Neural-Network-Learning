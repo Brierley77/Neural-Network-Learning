{
 "cells": [
  {
   "cell_type": "markdown",
   "id": "1261f420",
   "metadata": {},
   "source": [
    "# Following Youtube Tutorial: \n",
    "\n",
    "https://www.youtube.com/watch?v=Wo5dMEP_BbI&t=51s&ab_channel=sentdex"
   ]
  },
  {
   "cell_type": "code",
   "execution_count": 1,
   "id": "fd0cd63d",
   "metadata": {},
   "outputs": [],
   "source": [
    "import sys \n",
    "import numpy as np\n",
    "import matplotlib as plt"
   ]
  },
  {
   "cell_type": "code",
   "execution_count": 2,
   "id": "1f5ce53e",
   "metadata": {},
   "outputs": [
    {
     "name": "stdout",
     "output_type": "stream",
     "text": [
      "Python: 3.11.5 | packaged by Anaconda, Inc. | (main, Sep 11 2023, 13:26:23) [MSC v.1916 64 bit (AMD64)]\n",
      "Numpy: 1.24.3\n",
      "Matplotlib 3.7.2\n"
     ]
    }
   ],
   "source": [
    "print('Python:', sys.version)\n",
    "print('Numpy:', np.__version__)\n",
    "print('Matplotlib', plt.__version__)"
   ]
  },
  {
   "cell_type": "code",
   "execution_count": 3,
   "id": "0b05be17",
   "metadata": {},
   "outputs": [
    {
     "name": "stdout",
     "output_type": "stream",
     "text": [
      "35.7\n"
     ]
    }
   ],
   "source": [
    "inputs = [1.2, 5.1, 2.1]\n",
    "weights = [3.1, 2.1, 8.7]\n",
    "bias = 3\n",
    "\n",
    "output = inputs[0]*weights[0] + inputs[1]*weights[1] + inputs[2]*weights[2] + bias\n",
    "\n",
    "print(output)"
   ]
  },
  {
   "cell_type": "markdown",
   "id": "4d0039e6",
   "metadata": {},
   "source": [
    "# Part 2 \n",
    "\n",
    "https://www.youtube.com/watch?v=lGLto9Xd7bU&ab_channel=sentdex"
   ]
  },
  {
   "cell_type": "code",
   "execution_count": 4,
   "id": "6080d8e5",
   "metadata": {},
   "outputs": [
    {
     "name": "stdout",
     "output_type": "stream",
     "text": [
      "2.3\n"
     ]
    }
   ],
   "source": [
    "inputs = [1, 2, 3]\n",
    "weights = [0.2, 0.8, -0.5]\n",
    "bias = 2\n",
    "\n",
    "output = inputs[0]*weights[0] + inputs[1]*weights[1] + inputs[2]*weights[2] + bias\n",
    "\n",
    "print(output)"
   ]
  },
  {
   "cell_type": "code",
   "execution_count": 5,
   "id": "0c8f1516",
   "metadata": {},
   "outputs": [],
   "source": [
    "# just adding another input layer"
   ]
  },
  {
   "cell_type": "code",
   "execution_count": 8,
   "id": "21609141",
   "metadata": {},
   "outputs": [
    {
     "name": "stdout",
     "output_type": "stream",
     "text": [
      "4.8\n"
     ]
    }
   ],
   "source": [
    "inputs = [1, 2, 3, 2.5]\n",
    "weights = [0.2, 0.8, -0.5, 1.0]\n",
    "bias = 2\n",
    "\n",
    "output = inputs[0]*weights[0] + inputs[1]*weights[1] + inputs[2]*weights[2] + inputs[3]*weights[3] + bias\n",
    "\n",
    "print(output)"
   ]
  },
  {
   "cell_type": "code",
   "execution_count": 9,
   "id": "7889d9a9",
   "metadata": {},
   "outputs": [],
   "source": [
    "# now we are going to try and put 4 inputs into 3 neurons (could be considered an output layer for a 3,4,4,3 neural network)"
   ]
  },
  {
   "cell_type": "code",
   "execution_count": 12,
   "id": "9fa868f8",
   "metadata": {},
   "outputs": [
    {
     "name": "stdout",
     "output_type": "stream",
     "text": [
      "[4.8, 1.21, 2.385]\n"
     ]
    }
   ],
   "source": [
    "inputs = [1, 2, 3, 2.5]\n",
    "\n",
    "weights1 = [0.2, 0.8, -0.5, 1.0]\n",
    "weights2 = [0.5, -0.91, 0.26, -0.5]\n",
    "weights3 = [-0.26, -0.27, 0.17, 0.87]\n",
    "\n",
    "bias1 = 2\n",
    "bias2 = 3\n",
    "bias3 = 0.5\n",
    "\n",
    "output = [inputs[0]*weights1[0] + inputs[1]*weights1[1] + inputs[2]*weights1[2] + inputs[3]*weights1[3] + bias1,\n",
    "         inputs[0]*weights2[0] + inputs[1]*weights2[1] + inputs[2]*weights2[2] + inputs[3]*weights2[3] + bias2,\n",
    "         inputs[0]*weights3[0] + inputs[1]*weights3[1] + inputs[2]*weights3[2] + inputs[3]*weights3[3] + bias3]\n",
    "\n",
    "print(output)"
   ]
  },
  {
   "cell_type": "markdown",
   "id": "14cb3e68",
   "metadata": {},
   "source": [
    "# Part 3\n",
    "\n",
    "https://www.youtube.com/watch?v=tMrbN67U9d4&ab_channel=sentdex"
   ]
  },
  {
   "cell_type": "code",
   "execution_count": 13,
   "id": "96ce36db",
   "metadata": {},
   "outputs": [],
   "source": [
    "# going into NOT using lists etc and starting to go into using matrix's and vectors etc \n",
    "# making our code a bit more fancy and better performing "
   ]
  },
  {
   "cell_type": "code",
   "execution_count": 24,
   "id": "36298df0",
   "metadata": {},
   "outputs": [
    {
     "name": "stdout",
     "output_type": "stream",
     "text": [
      "[4.8, 1.21, 2.385]\n"
     ]
    }
   ],
   "source": [
    "inputs = [1, 2, 3, 2.5]\n",
    "\n",
    "weights = [[0.2, 0.8, -0.5, 1.0],\n",
    "          [0.5, -0.91, 0.26, -0.5],\n",
    "          [-0.26, -0.27, 0.17, 0.87]]\n",
    "\n",
    "biases = [2, 3, 0.5]\n",
    "\n",
    "layer_outputs = []   # output of current layer \n",
    "for neuron_weights, neuron_bias in zip(weights, biases): #zip is just a 'list of list', ie zip[0] = weight[0], bias[0]\n",
    "    neuron_output = 0 #output of given neuron\n",
    "    for n_input, weight in zip(inputs, neuron_weights):\n",
    "        neuron_output += n_input*weight\n",
    "    neuron_output += neuron_bias\n",
    "    layer_outputs.append(neuron_output)\n",
    "    \n",
    "    \n",
    "print(layer_outputs)"
   ]
  },
  {
   "cell_type": "code",
   "execution_count": 25,
   "id": "e19a833c",
   "metadata": {},
   "outputs": [],
   "source": [
    "# weights and biases impact our outputs in different ways \n",
    "# you could theoretically have neural networks with just weight or just biases, don't have to have the combination of both \n",
    "# BUT they are very helpful having them combined "
   ]
  },
  {
   "cell_type": "code",
   "execution_count": 26,
   "id": "0c219dcf",
   "metadata": {},
   "outputs": [
    {
     "name": "stdout",
     "output_type": "stream",
     "text": [
      "-0.35\n"
     ]
    }
   ],
   "source": [
    "# example to help our understanding: \n",
    "\n",
    "some_value = -0.5 \n",
    "weight = 0.7 \n",
    "bias = 0.7 \n",
    "\n",
    "print(some_value*weight)"
   ]
  },
  {
   "cell_type": "code",
   "execution_count": 27,
   "id": "65148031",
   "metadata": {},
   "outputs": [
    {
     "name": "stdout",
     "output_type": "stream",
     "text": [
      "0.19999999999999996\n"
     ]
    }
   ],
   "source": [
    "print(some_value+bias)"
   ]
  },
  {
   "cell_type": "code",
   "execution_count": 28,
   "id": "b38c4dd9",
   "metadata": {},
   "outputs": [],
   "source": [
    "# bias has 'OFF SET' the value - it is no longer negative\n",
    "\n",
    "# they are doing 2 different things \n",
    "# weights are changing the magnatiude\n",
    "# the bias actually 'OFF SETTING' the value / output\n",
    "\n",
    "# these are two different tools that help in two different ways "
   ]
  },
  {
   "cell_type": "markdown",
   "id": "0d44b7f3",
   "metadata": {},
   "source": [
    "# Getting into Numpy"
   ]
  },
  {
   "cell_type": "code",
   "execution_count": 30,
   "id": "8261d2ff",
   "metadata": {},
   "outputs": [],
   "source": [
    "# getting into shape and understanding it / shape errors - its essential for understanding\n",
    "\n",
    "# a 1D array is a list in python, ie l = [1,5,6,2]            -shape = (4,)  \n",
    "# in maths a list is a vector."
   ]
  },
  {
   "cell_type": "code",
   "execution_count": 31,
   "id": "1703ee91",
   "metadata": {},
   "outputs": [],
   "source": [
    "''' a lists of lists ie lol = [[1,5,6,2],\n",
    "                               [3,2,1,3]]'''\n",
    "# shape = (2,4)\n",
    "# type = 2D array, it is ALSO a Matrix \n",
    "\n",
    "# arrays have to have a unified shape, ie 4x4, 3x3 shape"
   ]
  },
  {
   "cell_type": "code",
   "execution_count": 37,
   "id": "cfae48e8",
   "metadata": {},
   "outputs": [],
   "source": [
    "#can also have a list of lists of lists =      lolol = [[[1,5,6,2]]]\n",
    "#                                                        [3,2,1,3]]\n",
    "#                                                        [[5,2,1,2],\n",
    "#                                                        [6,4,6,4]],\n",
    "#                                                        [[2,8,5,3],\n",
    "#                                                        [1,1,9,4]]]'''\n",
    "\n",
    "# shape = (3, 2, 4)\n",
    "# type 3D array "
   ]
  },
  {
   "cell_type": "code",
   "execution_count": 39,
   "id": "e9745745",
   "metadata": {},
   "outputs": [],
   "source": [
    "# a tensor = is an object that caaan be represented as an array \n",
    "# a tenor is not just an array \n",
    "# but in the context of deep learning a tensor is an array "
   ]
  },
  {
   "cell_type": "code",
   "execution_count": 40,
   "id": "fd19b81f",
   "metadata": {},
   "outputs": [],
   "source": [
    "# soooo what are we trying to do here:\n",
    "\n",
    "# we are trying to do inputs * weights + the biases\n",
    "\n",
    "# bias = vector \n",
    "# inputs = vector \n",
    "# weights = matrix of vectors \n",
    "\n",
    "# so how do we go about multiplying this vector (inputs) by the matrix of vectors (weights)\n",
    "\n",
    "# the way we do this is why the 'dot product'"
   ]
  },
  {
   "cell_type": "markdown",
   "id": "3bbbebb4",
   "metadata": {},
   "source": [
    "# dot product "
   ]
  },
  {
   "cell_type": "code",
   "execution_count": null,
   "id": "488daeb1",
   "metadata": {},
   "outputs": [],
   "source": []
  }
 ],
 "metadata": {
  "kernelspec": {
   "display_name": "Python 3 (ipykernel)",
   "language": "python",
   "name": "python3"
  },
  "language_info": {
   "codemirror_mode": {
    "name": "ipython",
    "version": 3
   },
   "file_extension": ".py",
   "mimetype": "text/x-python",
   "name": "python",
   "nbconvert_exporter": "python",
   "pygments_lexer": "ipython3",
   "version": "3.11.5"
  }
 },
 "nbformat": 4,
 "nbformat_minor": 5
}
