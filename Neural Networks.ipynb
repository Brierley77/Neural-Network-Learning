{
 "cells": [
  {
   "cell_type": "markdown",
   "id": "1261f420",
   "metadata": {},
   "source": [
    "# Following Youtube Tutorial: \n",
    "\n",
    "https://www.youtube.com/watch?v=Wo5dMEP_BbI&t=51s&ab_channel=sentdex"
   ]
  },
  {
   "cell_type": "code",
   "execution_count": 11,
   "id": "fd0cd63d",
   "metadata": {},
   "outputs": [],
   "source": [
    "import sys \n",
    "import numpy as np\n",
    "import matplotlib as plt"
   ]
  },
  {
   "cell_type": "code",
   "execution_count": 12,
   "id": "1f5ce53e",
   "metadata": {},
   "outputs": [
    {
     "name": "stdout",
     "output_type": "stream",
     "text": [
      "Python: 3.11.5 | packaged by Anaconda, Inc. | (main, Sep 11 2023, 13:26:23) [MSC v.1916 64 bit (AMD64)]\n",
      "Numpy: 1.24.3\n",
      "Matplotlib 3.7.2\n"
     ]
    }
   ],
   "source": [
    "print('Python:', sys.version)\n",
    "print('Numpy:', np.__version__)\n",
    "print('Matplotlib', plt.__version__)"
   ]
  },
  {
   "cell_type": "code",
   "execution_count": 13,
   "id": "0b05be17",
   "metadata": {},
   "outputs": [
    {
     "name": "stdout",
     "output_type": "stream",
     "text": [
      "35.7\n"
     ]
    }
   ],
   "source": [
    "inputs = [1.2, 5.1, 2.1]\n",
    "weights = [3.1, 2.1, 8.7]\n",
    "bias = 3\n",
    "\n",
    "output = inputs[0]*weights[0] + inputs[1]*weights[1] + inputs[2]*weights[2] + bias\n",
    "\n",
    "print(output)"
   ]
  },
  {
   "cell_type": "markdown",
   "id": "4d0039e6",
   "metadata": {},
   "source": [
    "# Part 2 \n",
    "\n",
    "https://www.youtube.com/watch?v=lGLto9Xd7bU&ab_channel=sentdex"
   ]
  },
  {
   "cell_type": "code",
   "execution_count": 14,
   "id": "6080d8e5",
   "metadata": {},
   "outputs": [
    {
     "name": "stdout",
     "output_type": "stream",
     "text": [
      "2.3\n"
     ]
    }
   ],
   "source": [
    "inputs = [1, 2, 3]\n",
    "weights = [0.2, 0.8, -0.5]\n",
    "bias = 2\n",
    "\n",
    "output = inputs[0]*weights[0] + inputs[1]*weights[1] + inputs[2]*weights[2] + bias\n",
    "\n",
    "print(output)"
   ]
  },
  {
   "cell_type": "code",
   "execution_count": 15,
   "id": "0c8f1516",
   "metadata": {},
   "outputs": [],
   "source": [
    "# just adding another input layer"
   ]
  },
  {
   "cell_type": "code",
   "execution_count": null,
   "id": "21609141",
   "metadata": {},
   "outputs": [],
   "source": []
  }
 ],
 "metadata": {
  "kernelspec": {
   "display_name": "Python 3 (ipykernel)",
   "language": "python",
   "name": "python3"
  },
  "language_info": {
   "codemirror_mode": {
    "name": "ipython",
    "version": 3
   },
   "file_extension": ".py",
   "mimetype": "text/x-python",
   "name": "python",
   "nbconvert_exporter": "python",
   "pygments_lexer": "ipython3",
   "version": "3.11.5"
  }
 },
 "nbformat": 4,
 "nbformat_minor": 5
}
